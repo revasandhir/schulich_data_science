{
 "cells": [
  {
   "cell_type": "markdown",
   "metadata": {},
   "source": [
    "# Assignment 1: Data Exploration\n",
    "    By Reva Sandhir"
   ]
  },
  {
   "cell_type": "markdown",
   "metadata": {},
   "source": [
    "Objective: The purpose of this assignment is to test your ability to prepare data and organize data, conduct exploratory analysis, identify key business insights, and make relevant recommendations for improvement.\n",
    "\n",
    "Business Context:\n",
    "\n",
    "StreamFlow, a subscription-based content streaming platform, has been facing a significant issue with subscriber churn, with the largest volume of churners in its 'Standard' tier. Despite offering a diverse range of content and competitive pricing, there has been an observable trend where many users either downgrade to the 'Basic' tier after a few months or leave the service entirely. The company wants to understand the factors contributing to churn, and identify opportunities to drive improved retention. Further, they want to build a business case to implement retention improvement initiatives by estimating the impact to key business metrics."
   ]
  },
  {
   "cell_type": "code",
   "execution_count": null,
   "metadata": {},
   "outputs": [],
   "source": [
    "import pandas as pd\n",
    "import numpy as np\n",
    "import seaborn as sns\n",
    "import matplotlib.pyplot as plt\n",
    "from sklearn.preprocessing import LabelEncoder"
   ]
  },
  {
   "cell_type": "code",
   "execution_count": 24,
   "metadata": {},
   "outputs": [],
   "source": [
    "df = pd.read_csv('https://raw.githubusercontent.com/delinai/schulich_ds1_2024/refs/heads/main/Datasets/Assignment1_StreamFlow_Subscription_Data.csv')"
   ]
  },
  {
   "cell_type": "code",
   "execution_count": 25,
   "metadata": {},
   "outputs": [
    {
     "data": {
      "text/html": [
       "<div>\n",
       "<style scoped>\n",
       "    .dataframe tbody tr th:only-of-type {\n",
       "        vertical-align: middle;\n",
       "    }\n",
       "\n",
       "    .dataframe tbody tr th {\n",
       "        vertical-align: top;\n",
       "    }\n",
       "\n",
       "    .dataframe thead th {\n",
       "        text-align: right;\n",
       "    }\n",
       "</style>\n",
       "<table border=\"1\" class=\"dataframe\">\n",
       "  <thead>\n",
       "    <tr style=\"text-align: right;\">\n",
       "      <th></th>\n",
       "      <th>User_ID</th>\n",
       "      <th>Age</th>\n",
       "      <th>Gender</th>\n",
       "      <th>Location</th>\n",
       "      <th>Subscription_Start_Date</th>\n",
       "      <th>Subscription_Type</th>\n",
       "      <th>Monthly_Payment</th>\n",
       "      <th>Payment_Method</th>\n",
       "      <th>Monthly_Hours_Watched</th>\n",
       "      <th>Favorite_Genre</th>\n",
       "      <th>Devices_Used</th>\n",
       "      <th>Average_Session_Length</th>\n",
       "      <th>Content_ID</th>\n",
       "      <th>Rating_Given</th>\n",
       "      <th>Churned</th>\n",
       "      <th>Date_of_Churn</th>\n",
       "      <th>Reason_for_Churn</th>\n",
       "    </tr>\n",
       "  </thead>\n",
       "  <tbody>\n",
       "    <tr>\n",
       "      <th>0</th>\n",
       "      <td>1</td>\n",
       "      <td>56</td>\n",
       "      <td>Other</td>\n",
       "      <td>Central</td>\n",
       "      <td>2020-06-07 01:53:37.656934</td>\n",
       "      <td>Premium</td>\n",
       "      <td>19.99</td>\n",
       "      <td>Credit Card</td>\n",
       "      <td>31.513153</td>\n",
       "      <td>Action</td>\n",
       "      <td>PC</td>\n",
       "      <td>1.195762</td>\n",
       "      <td>1023</td>\n",
       "      <td>5</td>\n",
       "      <td>0</td>\n",
       "      <td>NaN</td>\n",
       "      <td>NaN</td>\n",
       "    </tr>\n",
       "    <tr>\n",
       "      <th>1</th>\n",
       "      <td>2</td>\n",
       "      <td>69</td>\n",
       "      <td>Other</td>\n",
       "      <td>West</td>\n",
       "      <td>2024-02-21 01:53:37.656980</td>\n",
       "      <td>Standard</td>\n",
       "      <td>14.99</td>\n",
       "      <td>Credit Card</td>\n",
       "      <td>4.982277</td>\n",
       "      <td>Drama</td>\n",
       "      <td>PC</td>\n",
       "      <td>0.809002</td>\n",
       "      <td>1076</td>\n",
       "      <td>1</td>\n",
       "      <td>0</td>\n",
       "      <td>NaN</td>\n",
       "      <td>NaN</td>\n",
       "    </tr>\n",
       "    <tr>\n",
       "      <th>2</th>\n",
       "      <td>3</td>\n",
       "      <td>46</td>\n",
       "      <td>Female</td>\n",
       "      <td>North</td>\n",
       "      <td>2022-10-06 01:53:37.656995</td>\n",
       "      <td>Standard</td>\n",
       "      <td>14.99</td>\n",
       "      <td>PayPal</td>\n",
       "      <td>4.114953</td>\n",
       "      <td>Sci-Fi</td>\n",
       "      <td>Tablet</td>\n",
       "      <td>1.153570</td>\n",
       "      <td>1095</td>\n",
       "      <td>2</td>\n",
       "      <td>0</td>\n",
       "      <td>NaN</td>\n",
       "      <td>NaN</td>\n",
       "    </tr>\n",
       "    <tr>\n",
       "      <th>3</th>\n",
       "      <td>4</td>\n",
       "      <td>32</td>\n",
       "      <td>Female</td>\n",
       "      <td>East</td>\n",
       "      <td>2022-01-04 01:53:37.657006</td>\n",
       "      <td>Standard</td>\n",
       "      <td>14.99</td>\n",
       "      <td>Credit Card</td>\n",
       "      <td>60.244820</td>\n",
       "      <td>Action</td>\n",
       "      <td>TV</td>\n",
       "      <td>0.609503</td>\n",
       "      <td>1003</td>\n",
       "      <td>1</td>\n",
       "      <td>0</td>\n",
       "      <td>NaN</td>\n",
       "      <td>NaN</td>\n",
       "    </tr>\n",
       "    <tr>\n",
       "      <th>4</th>\n",
       "      <td>5</td>\n",
       "      <td>60</td>\n",
       "      <td>Female</td>\n",
       "      <td>North</td>\n",
       "      <td>2020-03-13 01:53:37.657017</td>\n",
       "      <td>Standard</td>\n",
       "      <td>14.99</td>\n",
       "      <td>Credit Card</td>\n",
       "      <td>4.711855</td>\n",
       "      <td>Sci-Fi</td>\n",
       "      <td>Mobile</td>\n",
       "      <td>0.359971</td>\n",
       "      <td>1012</td>\n",
       "      <td>4</td>\n",
       "      <td>0</td>\n",
       "      <td>NaN</td>\n",
       "      <td>NaN</td>\n",
       "    </tr>\n",
       "  </tbody>\n",
       "</table>\n",
       "</div>"
      ],
      "text/plain": [
       "   User_ID  Age  Gender Location     Subscription_Start_Date  \\\n",
       "0        1   56   Other  Central  2020-06-07 01:53:37.656934   \n",
       "1        2   69   Other     West  2024-02-21 01:53:37.656980   \n",
       "2        3   46  Female    North  2022-10-06 01:53:37.656995   \n",
       "3        4   32  Female     East  2022-01-04 01:53:37.657006   \n",
       "4        5   60  Female    North  2020-03-13 01:53:37.657017   \n",
       "\n",
       "  Subscription_Type  Monthly_Payment Payment_Method  Monthly_Hours_Watched  \\\n",
       "0           Premium            19.99    Credit Card              31.513153   \n",
       "1          Standard            14.99    Credit Card               4.982277   \n",
       "2          Standard            14.99         PayPal               4.114953   \n",
       "3          Standard            14.99    Credit Card              60.244820   \n",
       "4          Standard            14.99    Credit Card               4.711855   \n",
       "\n",
       "  Favorite_Genre Devices_Used  Average_Session_Length  Content_ID  \\\n",
       "0         Action           PC                1.195762        1023   \n",
       "1          Drama           PC                0.809002        1076   \n",
       "2         Sci-Fi       Tablet                1.153570        1095   \n",
       "3         Action           TV                0.609503        1003   \n",
       "4         Sci-Fi       Mobile                0.359971        1012   \n",
       "\n",
       "   Rating_Given  Churned Date_of_Churn Reason_for_Churn  \n",
       "0             5        0           NaN              NaN  \n",
       "1             1        0           NaN              NaN  \n",
       "2             2        0           NaN              NaN  \n",
       "3             1        0           NaN              NaN  \n",
       "4             4        0           NaN              NaN  "
      ]
     },
     "execution_count": 25,
     "metadata": {},
     "output_type": "execute_result"
    }
   ],
   "source": [
    "df.head()"
   ]
  },
  {
   "cell_type": "code",
   "execution_count": 29,
   "metadata": {},
   "outputs": [
    {
     "data": {
      "text/plain": [
       "<bound method NDFrame.describe of      User_ID  Age  Gender Location     Subscription_Start_Date  \\\n",
       "0          1   56   Other  Central  2020-06-07 01:53:37.656934   \n",
       "1          2   69   Other     West  2024-02-21 01:53:37.656980   \n",
       "2          3   46  Female    North  2022-10-06 01:53:37.656995   \n",
       "3          4   32  Female     East  2022-01-04 01:53:37.657006   \n",
       "4          5   60  Female    North  2020-03-13 01:53:37.657017   \n",
       "..       ...  ...     ...      ...                         ...   \n",
       "995      996   25   Other     East  2020-10-26 01:53:37.667884   \n",
       "996      997   66  Female     West  2020-05-06 01:53:37.667895   \n",
       "997      998   52   Other    South  2019-06-19 01:53:37.667906   \n",
       "998      999   69    Male     East  2020-11-13 01:53:37.667917   \n",
       "999     1000   32    Male    North  2022-07-10 01:53:37.667930   \n",
       "\n",
       "    Subscription_Type  Monthly_Payment Payment_Method  Monthly_Hours_Watched  \\\n",
       "0             Premium            19.99    Credit Card              31.513153   \n",
       "1            Standard            14.99    Credit Card               4.982277   \n",
       "2            Standard            14.99         PayPal               4.114953   \n",
       "3            Standard            14.99    Credit Card              60.244820   \n",
       "4            Standard            14.99    Credit Card               4.711855   \n",
       "..                ...              ...            ...                    ...   \n",
       "995             Basic             9.99         PayPal               0.700179   \n",
       "996          Standard            14.99    Credit Card              20.153308   \n",
       "997          Standard            14.99         PayPal              39.170314   \n",
       "998          Standard            14.99    Credit Card               8.455372   \n",
       "999             Basic             9.99    Credit Card               9.895619   \n",
       "\n",
       "    Favorite_Genre Devices_Used  Average_Session_Length  Content_ID  \\\n",
       "0           Action           PC                1.195762        1023   \n",
       "1            Drama           PC                0.809002        1076   \n",
       "2           Sci-Fi       Tablet                1.153570        1095   \n",
       "3           Action           TV                0.609503        1003   \n",
       "4           Sci-Fi       Mobile                0.359971        1012   \n",
       "..             ...          ...                     ...         ...   \n",
       "995    Documentary       Mobile                3.310731        1035   \n",
       "996         Action       Mobile                3.222521        1069   \n",
       "997          Drama           PC                1.221380        1079   \n",
       "998         Sci-Fi       Mobile                1.865411        1092   \n",
       "999          Drama       Mobile                1.853993        1099   \n",
       "\n",
       "     Rating_Given  Churned               Date_of_Churn      Reason_for_Churn  \n",
       "0               5        0                         NaN                   NaN  \n",
       "1               1        0                         NaN                   NaN  \n",
       "2               2        0                         NaN                   NaN  \n",
       "3               1        0                         NaN                   NaN  \n",
       "4               4        0                         NaN                   NaN  \n",
       "..            ...      ...                         ...                   ...  \n",
       "995             1        1  2021-03-14 01:53:37.667884  Found better service  \n",
       "996             4        0                         NaN                   NaN  \n",
       "997             1        0                         NaN                   NaN  \n",
       "998             2        1  2021-04-05 01:53:37.667917  Found better service  \n",
       "999             4        0                         NaN                   NaN  \n",
       "\n",
       "[1000 rows x 17 columns]>"
      ]
     },
     "execution_count": 29,
     "metadata": {},
     "output_type": "execute_result"
    }
   ],
   "source": [
    "df.describe"
   ]
  },
  {
   "cell_type": "code",
   "execution_count": 35,
   "metadata": {},
   "outputs": [
    {
     "data": {
      "text/plain": [
       "User_ID                      0\n",
       "Age                          0\n",
       "Gender                       0\n",
       "Location                     0\n",
       "Subscription_Start_Date      0\n",
       "Subscription_Type            0\n",
       "Monthly_Payment              0\n",
       "Payment_Method               0\n",
       "Monthly_Hours_Watched        0\n",
       "Favorite_Genre               0\n",
       "Devices_Used                 0\n",
       "Average_Session_Length       0\n",
       "Content_ID                   0\n",
       "Rating_Given                 0\n",
       "Churned                      0\n",
       "Date_of_Churn              754\n",
       "Reason_for_Churn           754\n",
       "dtype: int64"
      ]
     },
     "execution_count": 35,
     "metadata": {},
     "output_type": "execute_result"
    }
   ],
   "source": [
    "# Check for missing values in each column\n",
    "df.isnull().sum()"
   ]
  },
  {
   "cell_type": "markdown",
   "metadata": {},
   "source": [
    "Insight: date_of_churn and reason_for_churb have a large number of missing values (754)."
   ]
  },
  {
   "cell_type": "code",
   "execution_count": 36,
   "metadata": {},
   "outputs": [],
   "source": [
    "# for non churned users, drop the churn-related columns or leave them as NaN\n",
    "df.loc[df['Churned'] == 0, 'Date_of_Churn'] = np.nan\n",
    "df.loc[df['Churned'] == 0, 'Reason_for_Churn'] = np.nan"
   ]
  },
  {
   "cell_type": "code",
   "execution_count": 40,
   "metadata": {},
   "outputs": [],
   "source": [
    "# check for duplicate rows\n",
    "duplicates = df.duplicated().sum()\n",
    "\n",
    "# remove duplicates if any\n",
    "df = df.drop_duplicates()"
   ]
  },
  {
   "cell_type": "code",
   "execution_count": 41,
   "metadata": {},
   "outputs": [
    {
     "data": {
      "image/png": "[encoded data removed]",
      "text/plain": [
       "<Figure size 640x480 with 1 Axes>"
      ]
     },
     "metadata": {},
     "output_type": "display_data"
    },
    {
     "data": {
      "image/png": "[encoded data removed]",
      "text/plain": [
       "<Figure size 640x480 with 1 Axes>"
      ]
     },
     "metadata": {},
     "output_type": "display_data"
    }
   ],
   "source": [
    "# boxplot for detecting outliers\n",
    "sns.boxplot(x=df['Age'])\n",
    "plt.title('Age Distribution with Outliers')\n",
    "plt.show()\n",
    "\n",
    "sns.boxplot(x=df['Monthly_Hours_Watched'])\n",
    "plt.title('Monthly_Hours_Watched')\n",
    "plt.show()"
   ]
  },
  {
   "cell_type": "code",
   "execution_count": 44,
   "metadata": {},
   "outputs": [
    {
     "data": {
      "image/png": "[encoded data removed]",
      "text/plain": [
       "<Figure size 640x480 with 1 Axes>"
      ]
     },
     "metadata": {},
     "output_type": "display_data"
    }
   ],
   "source": [
    "# Ensure Age is within a reasonable range (e.g., 18 to 100 years)\n",
    "df = df[(df['Age'] >= 18) & (df['Age'] <= 100)]\n",
    "\n",
    "sns.histplot(df['Age'], kde=True)\n",
    "plt.title('Age Distribution')\n",
    "plt.show()"
   ]
  },
  {
   "cell_type": "markdown",
   "metadata": {},
   "source": [
    "converting categorical variables "
   ]
  },
  {
   "cell_type": "code",
   "execution_count": 1,
   "metadata": {},
   "outputs": [
    {
     "ename": "NameError",
     "evalue": "name 'pd' is not defined",
     "output_type": "error",
     "traceback": [
      "\u001b[1;31m---------------------------------------------------------------------------\u001b[0m",
      "\u001b[1;31mNameError\u001b[0m                                 Traceback (most recent call last)",
      "Cell \u001b[1;32mIn[1], line 2\u001b[0m\n\u001b[0;32m      1\u001b[0m \u001b[38;5;66;03m# One-hot encode categorical variables\u001b[39;00m\n\u001b[1;32m----> 2\u001b[0m df \u001b[38;5;241m=\u001b[39m pd\u001b[38;5;241m.\u001b[39mget_dummies(df, columns\u001b[38;5;241m=\u001b[39m[\u001b[38;5;124m'\u001b[39m\u001b[38;5;124mGender\u001b[39m\u001b[38;5;124m'\u001b[39m, \u001b[38;5;124m'\u001b[39m\u001b[38;5;124mLocation\u001b[39m\u001b[38;5;124m'\u001b[39m, \u001b[38;5;124m'\u001b[39m\u001b[38;5;124mSubscription_Type\u001b[39m\u001b[38;5;124m'\u001b[39m, \u001b[38;5;124m'\u001b[39m\u001b[38;5;124mFavorite_Genre\u001b[39m\u001b[38;5;124m'\u001b[39m], drop_first\u001b[38;5;241m=\u001b[39m\u001b[38;5;28;01mTrue\u001b[39;00m)\n",
      "\u001b[1;31mNameError\u001b[0m: name 'pd' is not defined"
     ]
    }
   ],
   "source": [
    "# One-hot encode categorical variables\n",
    "df = pd.get_dummies(df, columns=['Gender', 'Location', 'Subscription_Type', 'Favorite_Genre'], drop_first=True)\n"
   ]
  }
 ],
 "metadata": {
  "kernelspec": {
   "display_name": "base",
   "language": "python",
   "name": "python3"
  },
  "language_info": {
   "codemirror_mode": {
    "name": "ipython",
    "version": 3
   },
   "file_extension": ".py",
   "mimetype": "text/x-python",
   "name": "python",
   "nbconvert_exporter": "python",
   "pygments_lexer": "ipython3",
   "version": "3.12.4"
  }
 },
 "nbformat": 4,
 "nbformat_minor": 2
}
