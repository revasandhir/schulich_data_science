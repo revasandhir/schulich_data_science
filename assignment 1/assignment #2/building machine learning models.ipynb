{
 "cells": [
  {
   "cell_type": "code",
   "execution_count": 1,
   "metadata": {},
   "outputs": [],
   "source": [
    "\n",
    "import pandas as pd"
   ]
  },
  {
   "cell_type": "code",
   "execution_count": 2,
   "metadata": {},
   "outputs": [],
   "source": [
    "# a\n",
    "df=pd.read_csv('https://raw.githubusercontent.com/delinai/schulich_ds1_2024/main/Datasets/customers_final.csv')"
   ]
  },
  {
   "cell_type": "code",
   "execution_count": 3,
   "metadata": {},
   "outputs": [
    {
     "name": "stdout",
     "output_type": "stream",
     "text": [
      "<class 'pandas.core.frame.DataFrame'>\n",
      "RangeIndex: 10000 entries, 0 to 9999\n",
      "Data columns (total 6 columns):\n",
      " #   Column              Non-Null Count  Dtype  \n",
      "---  ------              --------------  -----  \n",
      " 0   customer_id         10000 non-null  int64  \n",
      " 1   join_date           10000 non-null  object \n",
      " 2   last_purchase_date  10000 non-null  object \n",
      " 3   age                 8991 non-null   float64\n",
      " 4   gender              9467 non-null   object \n",
      " 5   location            10000 non-null  object \n",
      "dtypes: float64(1), int64(1), object(4)\n",
      "memory usage: 468.9+ KB\n"
     ]
    },
    {
     "data": {
      "text/plain": [
       "(   customer_id   join_date last_purchase_date   age  gender           location\n",
       " 0            1  2023-11-20         2024-03-17  56.0  Female  North Shannonbury\n",
       " 1            2  2021-09-08         2023-10-25   NaN    Male          Hillville\n",
       " 2            3  2021-06-01         2022-11-27   NaN     NaN   North Latoyatown\n",
       " 3            4  2022-01-01         2022-09-01  29.0    Male          Grossstad\n",
       " 4            5  2022-01-24         2023-06-02   NaN    Male   East Matthewfort,\n",
       " None,\n",
       "        customer_id          age\n",
       " count  10000.00000  8991.000000\n",
       " mean    5000.50000    43.467467\n",
       " std     2886.89568    15.094380\n",
       " min        1.00000    18.000000\n",
       " 25%     2500.75000    30.000000\n",
       " 50%     5000.50000    44.000000\n",
       " 75%     7500.25000    57.000000\n",
       " max    10000.00000    69.000000)"
      ]
     },
     "execution_count": 3,
     "metadata": {},
     "output_type": "execute_result"
    }
   ],
   "source": [
    "# Display the first few rows of the dataset\n",
    "df.head(), df.info(), df.describe()"
   ]
  },
  {
   "cell_type": "code",
   "execution_count": 4,
   "metadata": {},
   "outputs": [],
   "source": [
    "from datetime import datetime"
   ]
  },
  {
   "cell_type": "code",
   "execution_count": 5,
   "metadata": {},
   "outputs": [],
   "source": [
    "# Convert date columns to datetime format\n",
    "df['join_date'] = pd.to_datetime(df['join_date'])\n",
    "df['last_purchase_date'] = pd.to_datetime(df['last_purchase_date'])"
   ]
  },
  {
   "cell_type": "code",
   "execution_count": 6,
   "metadata": {},
   "outputs": [
    {
     "name": "stderr",
     "output_type": "stream",
     "text": [
      "C:\\Users\\rsand\\AppData\\Local\\Temp\\ipykernel_3768\\2139058731.py:3: FutureWarning: A value is trying to be set on a copy of a DataFrame or Series through chained assignment using an inplace method.\n",
      "The behavior will change in pandas 3.0. This inplace method will never work because the intermediate object on which we are setting values always behaves as a copy.\n",
      "\n",
      "For example, when doing 'df[col].method(value, inplace=True)', try using 'df.method({col: value}, inplace=True)' or df[col] = df[col].method(value) instead, to perform the operation inplace on the original object.\n",
      "\n",
      "\n",
      "  df['age'].fillna(median_age, inplace=True)\n"
     ]
    }
   ],
   "source": [
    "# Fill missing values in 'age' with the median age\n",
    "median_age = df['age'].median()\n",
    "df['age'].fillna(median_age, inplace=True)"
   ]
  },
  {
   "cell_type": "code",
   "execution_count": 7,
   "metadata": {},
   "outputs": [
    {
     "name": "stderr",
     "output_type": "stream",
     "text": [
      "C:\\Users\\rsand\\AppData\\Local\\Temp\\ipykernel_3768\\2232657974.py:2: FutureWarning: A value is trying to be set on a copy of a DataFrame or Series through chained assignment using an inplace method.\n",
      "The behavior will change in pandas 3.0. This inplace method will never work because the intermediate object on which we are setting values always behaves as a copy.\n",
      "\n",
      "For example, when doing 'df[col].method(value, inplace=True)', try using 'df.method({col: value}, inplace=True)' or df[col] = df[col].method(value) instead, to perform the operation inplace on the original object.\n",
      "\n",
      "\n",
      "  df['gender'].fillna('Unknown', inplace=True)\n"
     ]
    }
   ],
   "source": [
    "# Fill missing values in 'gender' with a placeholder 'Unknown'\n",
    "df['gender'].fillna('Unknown', inplace=True)"
   ]
  },
  {
   "cell_type": "code",
   "execution_count": 8,
   "metadata": {},
   "outputs": [],
   "source": [
    "# Calculate tenure and recency\n",
    "current_date = datetime.now()\n",
    "df['tenure'] = (df['last_purchase_date'] - df['join_date']).dt.days\n",
    "df['recency'] = (current_date - df['last_purchase_date']).dt.days"
   ]
  },
  {
   "cell_type": "code",
   "execution_count": 9,
   "metadata": {},
   "outputs": [
    {
     "data": {
      "text/html": [
       "<div>\n",
       "<style scoped>\n",
       "    .dataframe tbody tr th:only-of-type {\n",
       "        vertical-align: middle;\n",
       "    }\n",
       "\n",
       "    .dataframe tbody tr th {\n",
       "        vertical-align: top;\n",
       "    }\n",
       "\n",
       "    .dataframe thead th {\n",
       "        text-align: right;\n",
       "    }\n",
       "</style>\n",
       "<table border=\"1\" class=\"dataframe\">\n",
       "  <thead>\n",
       "    <tr style=\"text-align: right;\">\n",
       "      <th></th>\n",
       "      <th>customer_id</th>\n",
       "      <th>join_date</th>\n",
       "      <th>last_purchase_date</th>\n",
       "      <th>age</th>\n",
       "      <th>gender</th>\n",
       "      <th>location</th>\n",
       "      <th>tenure</th>\n",
       "      <th>recency</th>\n",
       "    </tr>\n",
       "  </thead>\n",
       "  <tbody>\n",
       "    <tr>\n",
       "      <th>0</th>\n",
       "      <td>1</td>\n",
       "      <td>2023-11-20</td>\n",
       "      <td>2024-03-17</td>\n",
       "      <td>56.0</td>\n",
       "      <td>Female</td>\n",
       "      <td>North Shannonbury</td>\n",
       "      <td>118</td>\n",
       "      <td>118</td>\n",
       "    </tr>\n",
       "    <tr>\n",
       "      <th>1</th>\n",
       "      <td>2</td>\n",
       "      <td>2021-09-08</td>\n",
       "      <td>2023-10-25</td>\n",
       "      <td>44.0</td>\n",
       "      <td>Male</td>\n",
       "      <td>Hillville</td>\n",
       "      <td>777</td>\n",
       "      <td>262</td>\n",
       "    </tr>\n",
       "    <tr>\n",
       "      <th>2</th>\n",
       "      <td>3</td>\n",
       "      <td>2021-06-01</td>\n",
       "      <td>2022-11-27</td>\n",
       "      <td>44.0</td>\n",
       "      <td>Unknown</td>\n",
       "      <td>North Latoyatown</td>\n",
       "      <td>544</td>\n",
       "      <td>594</td>\n",
       "    </tr>\n",
       "    <tr>\n",
       "      <th>3</th>\n",
       "      <td>4</td>\n",
       "      <td>2022-01-01</td>\n",
       "      <td>2022-09-01</td>\n",
       "      <td>29.0</td>\n",
       "      <td>Male</td>\n",
       "      <td>Grossstad</td>\n",
       "      <td>243</td>\n",
       "      <td>681</td>\n",
       "    </tr>\n",
       "    <tr>\n",
       "      <th>4</th>\n",
       "      <td>5</td>\n",
       "      <td>2022-01-24</td>\n",
       "      <td>2023-06-02</td>\n",
       "      <td>44.0</td>\n",
       "      <td>Male</td>\n",
       "      <td>East Matthewfort</td>\n",
       "      <td>494</td>\n",
       "      <td>407</td>\n",
       "    </tr>\n",
       "  </tbody>\n",
       "</table>\n",
       "</div>"
      ],
      "text/plain": [
       "   customer_id  join_date last_purchase_date   age   gender  \\\n",
       "0            1 2023-11-20         2024-03-17  56.0   Female   \n",
       "1            2 2021-09-08         2023-10-25  44.0     Male   \n",
       "2            3 2021-06-01         2022-11-27  44.0  Unknown   \n",
       "3            4 2022-01-01         2022-09-01  29.0     Male   \n",
       "4            5 2022-01-24         2023-06-02  44.0     Male   \n",
       "\n",
       "            location  tenure  recency  \n",
       "0  North Shannonbury     118      118  \n",
       "1          Hillville     777      262  \n",
       "2   North Latoyatown     544      594  \n",
       "3          Grossstad     243      681  \n",
       "4   East Matthewfort     494      407  "
      ]
     },
     "execution_count": 9,
     "metadata": {},
     "output_type": "execute_result"
    }
   ],
   "source": [
    "# Display the first few rows of the cleaned dataset\n",
    "df.head()"
   ]
  },
  {
   "cell_type": "code",
   "execution_count": 10,
   "metadata": {},
   "outputs": [],
   "source": [
    "from sklearn.preprocessing import OneHotEncoder, StandardScaler\n"
   ]
  },
  {
   "cell_type": "code",
   "execution_count": 11,
   "metadata": {},
   "outputs": [],
   "source": [
    "# OneHotEncode 'Gender' and 'Location'\n",
    "encoder = OneHotEncoder(drop='first', sparse_output=False)\n",
    "encoded_features = encoder.fit_transform(df[['gender', 'location']])\n",
    "encoded_df = pd.DataFrame(encoded_features, columns=encoder.get_feature_names_out(['gender', 'location']))"
   ]
  },
  {
   "cell_type": "code",
   "execution_count": 12,
   "metadata": {},
   "outputs": [],
   "source": [
    "# Normalize/scale 'Age', 'Tenure', and 'Recency'\n",
    "scaler = StandardScaler()\n",
    "scaled_features = scaler.fit_transform(df[['age', 'tenure', 'recency']])\n",
    "scaled_df = pd.DataFrame(scaled_features, columns=['age_scaled', 'tenure_scaled', 'recency_scaled'])"
   ]
  },
  {
   "cell_type": "code",
   "execution_count": 13,
   "metadata": {},
   "outputs": [],
   "source": [
    "# Combine all features into a final DataFrame\n",
    "final_df = pd.concat([df[['customer_id']], scaled_df, encoded_df], axis=1)"
   ]
  },
  {
   "cell_type": "code",
   "execution_count": 14,
   "metadata": {},
   "outputs": [],
   "source": [
    "# Mock a CLV target variable for demonstration purposes\n",
    "np.random.seed(42)\n",
    "df['CLV'] = np.random.rand(len(df)) * 1000  # Random CLV values"
   ]
  },
  {
   "cell_type": "code",
   "execution_count": 15,
   "metadata": {},
   "outputs": [],
   "source": [
    "#Prepare the final dataset with engineered features\n",
    "final_df = pd.concat([df[['customer_id', 'CLV']], scaled_df, encoded_df], axis=1)"
   ]
  },
  {
   "cell_type": "code",
   "execution_count": 16,
   "metadata": {},
   "outputs": [],
   "source": [
    "# Split the data into training and testing sets\n",
    "X = final_df.drop(columns=['customer_id', 'CLV'])\n",
    "y = final_df['CLV']\n",
    "X_train, X_test, y_train, y_test = train_test_split(X, y, test_size=0.2, random_state=42)"
   ]
  },
  {
   "cell_type": "code",
   "execution_count": 17,
   "metadata": {},
   "outputs": [
    {
     "name": "stdout",
     "output_type": "stream",
     "text": [
      "Requirement already satisfied: xgboost in c:\\users\\rsand\\appdata\\local\\packages\\pythonsoftwarefoundation.python.3.11_qbz5n2kfra8p0\\localcache\\local-packages\\python311\\site-packages (2.1.0)Note: you may need to restart the kernel to use updated packages.\n"
     ]
    },
    {
     "name": "stderr",
     "output_type": "stream",
     "text": [
      "\n",
      "[notice] A new release of pip is available: 24.0 -> 24.1.2\n",
      "[notice] To update, run: C:\\Users\\rsand\\AppData\\Local\\Microsoft\\WindowsApps\\PythonSoftwareFoundation.Python.3.11_qbz5n2kfra8p0\\python.exe -m pip install --upgrade pip\n"
     ]
    },
    {
     "name": "stdout",
     "output_type": "stream",
     "text": [
      "\n",
      "Requirement already satisfied: numpy in c:\\users\\rsand\\appdata\\local\\packages\\pythonsoftwarefoundation.python.3.11_qbz5n2kfra8p0\\localcache\\local-packages\\python311\\site-packages (from xgboost) (1.26.4)\n",
      "Requirement already satisfied: scipy in c:\\users\\rsand\\appdata\\local\\packages\\pythonsoftwarefoundation.python.3.11_qbz5n2kfra8p0\\localcache\\local-packages\\python311\\site-packages (from xgboost) (1.13.0)\n"
     ]
    }
   ],
   "source": [
    "pip install xgboost"
   ]
  },
  {
   "cell_type": "code",
   "execution_count": 18,
   "metadata": {},
   "outputs": [],
   "source": [
    "import pandas as pd\n",
    "from sklearn.model_selection import train_test_split\n",
    "from sklearn.linear_model import LinearRegression\n",
    "from sklearn.ensemble import RandomForestRegressor\n",
    "from sklearn.ensemble import GradientBoostingRegressor\n",
    "import xgboost as xgb\n",
    "from sklearn.metrics import mean_squared_error, r2_score\n",
    "import numpy as np\n",
    "from sklearn.preprocessing import OneHotEncoder, StandardScaler"
   ]
  },
  {
   "cell_type": "code",
   "execution_count": 19,
   "metadata": {},
   "outputs": [],
   "source": [
    "# Initialize models\n",
    "models = {\n",
    "    'Linear Regression': LinearRegression(),\n",
    "    'Random Forest Regressor': RandomForestRegressor(random_state=42),\n",
    "    'Gradient Boosting Regressor': GradientBoostingRegressor(random_state=42),\n",
    "    'XGBoost Regressor': xgb.XGBRegressor(random_state=42)\n",
    "}"
   ]
  },
  {
   "cell_type": "code",
   "execution_count": 20,
   "metadata": {},
   "outputs": [],
   "source": [
    "# Train and evaluate models\n",
    "results = {}\n",
    "\n",
    "for name, model in models.items():\n",
    "    model.fit(X_train, y_train)\n",
    "    y_pred = model.predict(X_test)\n",
    "    mse = mean_squared_error(y_test, y_pred)\n",
    "    r2 = r2_score(y_test, y_pred)\n",
    "    results[name] = {'MSE': mse, 'R2': r2}\n",
    "\n",
    "print(results)"
   ]
  }
 ],
 "metadata": {
  "kernelspec": {
   "display_name": "Python 3",
   "language": "python",
   "name": "python3"
  },
  "language_info": {
   "codemirror_mode": {
    "name": "ipython",
    "version": 3
   },
   "file_extension": ".py",
   "mimetype": "text/x-python",
   "name": "python",
   "nbconvert_exporter": "python",
   "pygments_lexer": "ipython3",
   "version": "3.11.9"
  }
 },
 "nbformat": 4,
 "nbformat_minor": 2
}
